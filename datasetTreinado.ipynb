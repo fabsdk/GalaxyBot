{
  "nbformat": 4,
  "nbformat_minor": 0,
  "metadata": {
    "colab": {
      "provenance": []
    },
    "kernelspec": {
      "name": "python3",
      "display_name": "Python 3"
    },
    "language_info": {
      "name": "python"
    }
  },
  "cells": [
    {
      "cell_type": "code",
      "execution_count": 1,
      "metadata": {
        "id": "24exSQctBFG1"
      },
      "outputs": [],
      "source": [
        "!pip install -q kaggle"
      ]
    },
    {
      "cell_type": "code",
      "source": [
        "! mkdir ~/.kaggle\n",
        "! cp -f kaggle.json ~/.kaggle/\n",
        "! chmod 600 /root/.kaggle/kaggle.json"
      ],
      "metadata": {
        "id": "HGVwZ3eZBJpl"
      },
      "execution_count": 2,
      "outputs": []
    },
    {
      "cell_type": "code",
      "source": [
        "!kaggle datasets download -d emirhanai/planets-and-moons-dataset-ai-in-space"
      ],
      "metadata": {
        "colab": {
          "base_uri": "https://localhost:8080/"
        },
        "id": "A3IvfVrQBM3c",
        "outputId": "1998122e-fee6-4faf-85b5-654a8534cb31"
      },
      "execution_count": 3,
      "outputs": [
        {
          "output_type": "stream",
          "name": "stdout",
          "text": [
            "Downloading planets-and-moons-dataset-ai-in-space.zip to /content\n",
            " 97% 45.0M/46.4M [00:00<00:00, 53.0MB/s]\n",
            "100% 46.4M/46.4M [00:00<00:00, 56.7MB/s]\n"
          ]
        }
      ]
    },
    {
      "cell_type": "code",
      "source": [
        "import zipfile\n",
        "zip_ref = zipfile.ZipFile('/content/planets-and-moons-dataset-ai-in-space.zip', 'r')\n",
        "zip_ref.extractall('/content')\n",
        "zip_ref.close()"
      ],
      "metadata": {
        "id": "C05ybdMTBPma"
      },
      "execution_count": 4,
      "outputs": []
    },
    {
      "cell_type": "code",
      "source": [
        "import tensorflow as tf\n",
        "from tensorflow import keras\n",
        "from keras.preprocessing.image import ImageDataGenerator"
      ],
      "metadata": {
        "id": "VprrLpo6BRqU"
      },
      "execution_count": 5,
      "outputs": []
    },
    {
      "cell_type": "code",
      "source": [
        "train_datagen = ImageDataGenerator(\n",
        "            featurewise_center=False,  # set input mean to 0 over the dataset\n",
        "            samplewise_center=False,  # set each sample mean to 0\n",
        "            featurewise_std_normalization=False,  # divide inputs by std of the dataset\n",
        "            samplewise_std_normalization=False,  # divide each input by its std\n",
        "            zca_whitening=False,  # apply ZCA whitening\n",
        "            rotation_range=20,  # randomly rotate images in the range (degrees, 0 to 180)\n",
        "            width_shift_range=0.05,  # randomly shift images horizontally (fraction of total width)\n",
        "            height_shift_range=0.05,  # randomly shift images vertically (fraction of total height)\n",
        "            horizontal_flip=True,  # randomly flip images\n",
        "            vertical_flip=False, \n",
        "            rescale=1 / 255.0, #os bits da imagem agr tem 0 e 1 \n",
        "            fill_mode=\"nearest\",\n",
        "            validation_split=0.15)  # randomly flip images\n",
        "train_generator = train_datagen.flow_from_directory(\"/content/Planets_Moons_Data/Planets and Moons\",target_size=(170, 170),\n",
        "                                                    batch_size=64,\n",
        "                                                    class_mode='categorical',\n",
        "                                                    interpolation=\"lanczos\",\n",
        "                                                    subset=\"training\")\n",
        "valid_generator = train_datagen.flow_from_directory(\"/content/Planets_Moons_Data/Planets and Moons\",target_size=(170, 170),\n",
        "                                                    batch_size=64,\n",
        "                                                    class_mode='categorical',\n",
        "                                                    interpolation=\"lanczos\",\n",
        "                                                    subset=\"validation\")"
      ],
      "metadata": {
        "colab": {
          "base_uri": "https://localhost:8080/"
        },
        "id": "RchbZYDdBUW6",
        "outputId": "2e2ea0f9-0084-452f-9690-8cc2e91561b9"
      },
      "execution_count": 16,
      "outputs": [
        {
          "output_type": "stream",
          "name": "stdout",
          "text": [
            "Found 1396 images belonging to 11 classes.\n",
            "Found 242 images belonging to 11 classes.\n"
          ]
        }
      ]
    },
    {
      "cell_type": "code",
      "source": [
        "from keras.applications import VGG19\n",
        "from keras.optimizers import SGD\n",
        "from keras import Sequential\n",
        "from keras.layers import Flatten, Dense, BatchNormalization, Activation, Dropout\n",
        "\n",
        "# https://www.kaggle.com/code/drvaibhavkumar/cifar10-classification-using-vgg-transfer-learning\n",
        "base_model = VGG19(include_top=False, weights=\"imagenet\", input_shape=(170, 170, 3), classes=11)\n",
        "\n",
        "model= Sequential()\n",
        "model.add(base_model) #Adds the base model (in this case vgg19 to model)\n",
        "model.add(Flatten()) #Since the output before the flatten layer is a matrix we have to use this function to get a vector of the form nX1 to feed it into the fully connected layers\n",
        "\n",
        "#Adding the Dense layers along with activation and batch normalization\n",
        "model.add(Dense(1024,activation=('relu'),input_dim=512))\n",
        "model.add(Dense(512,activation=('relu'))) \n",
        "model.add(Dense(256,activation=('relu'))) \n",
        "model.add(Dropout(.3)) #Adding a dropout layer that will randomly drop 30% of the weights\n",
        "model.add(Dense(128,activation=('relu')))\n",
        "model.add(Dropout(.2))\n",
        "\n",
        "#aqui que vê quantas classificações\n",
        "model.add(Dense(11, activation=('softmax'))) #This is the classification layer"
      ],
      "metadata": {
        "id": "5kfNMQiGBXV9"
      },
      "execution_count": 18,
      "outputs": []
    },
    {
      "cell_type": "code",
      "source": [
        "model.summary()"
      ],
      "metadata": {
        "colab": {
          "base_uri": "https://localhost:8080/"
        },
        "id": "GrY36NvyBb7v",
        "outputId": "d9431fe0-3782-4b5a-9c53-526f41a8d004"
      },
      "execution_count": 19,
      "outputs": [
        {
          "output_type": "stream",
          "name": "stdout",
          "text": [
            "Model: \"sequential_2\"\n",
            "_________________________________________________________________\n",
            " Layer (type)                Output Shape              Param #   \n",
            "=================================================================\n",
            " vgg19 (Functional)          (None, 5, 5, 512)         20024384  \n",
            "                                                                 \n",
            " flatten_2 (Flatten)         (None, 12800)             0         \n",
            "                                                                 \n",
            " dense_10 (Dense)            (None, 1024)              13108224  \n",
            "                                                                 \n",
            " dense_11 (Dense)            (None, 512)               524800    \n",
            "                                                                 \n",
            " dense_12 (Dense)            (None, 256)               131328    \n",
            "                                                                 \n",
            " dropout_4 (Dropout)         (None, 256)               0         \n",
            "                                                                 \n",
            " dense_13 (Dense)            (None, 128)               32896     \n",
            "                                                                 \n",
            " dropout_5 (Dropout)         (None, 128)               0         \n",
            "                                                                 \n",
            " dense_14 (Dense)            (None, 11)                1419      \n",
            "                                                                 \n",
            "=================================================================\n",
            "Total params: 33,823,051\n",
            "Trainable params: 33,823,051\n",
            "Non-trainable params: 0\n",
            "_________________________________________________________________\n"
          ]
        }
      ]
    },
    {
      "cell_type": "code",
      "source": [
        "#Defining the parameters\n",
        "learn_rate=.001\n",
        "\n",
        "# https://stackoverflow.com/questions/49922252/choosing-number-of-steps-per-epoch\n",
        "batch_size=138\n",
        "epochs=4\n",
        "\n",
        "# https://keras.io/api/optimizers/sgd/\n",
        "sgd = SGD(learning_rate=learn_rate, momentum=.9, nesterov=True)\n",
        "\n",
        "# Optimizer: https://keras.io/api/optimizers/sgd/\n",
        "# Função de perda: sparse_categorical_crossentropy para >= 3 classes\n",
        "model.compile(loss='categorical_crossentropy', optimizer=sgd ,metrics=['accuracy'])"
      ],
      "metadata": {
        "id": "kO8OW_gtB_kP"
      },
      "execution_count": 20,
      "outputs": []
    },
    {
      "cell_type": "code",
      "source": [
        "history = model.fit(train_generator,\n",
        "                        validation_data= valid_generator,\n",
        "                        epochs=10,\n",
        "                        verbose=1,\n",
        "                        batch_size=86)"
      ],
      "metadata": {
        "colab": {
          "base_uri": "https://localhost:8080/"
        },
        "id": "HUBSqYVPBl1y",
        "outputId": "094d0f11-5fc1-4e41-f20c-138d2ceec155"
      },
      "execution_count": 21,
      "outputs": [
        {
          "output_type": "stream",
          "name": "stdout",
          "text": [
            "Epoch 1/10\n",
            "22/22 [==============================] - 2092s 95s/step - loss: 2.1421 - accuracy: 0.2722 - val_loss: 1.4286 - val_accuracy: 0.5868\n",
            "Epoch 2/10\n",
            "22/22 [==============================] - 2202s 100s/step - loss: 0.9825 - accuracy: 0.6698 - val_loss: 0.1687 - val_accuracy: 0.9793\n",
            "Epoch 3/10\n",
            "22/22 [==============================] - 2114s 96s/step - loss: 0.4269 - accuracy: 0.8746 - val_loss: 0.1019 - val_accuracy: 0.9917\n",
            "Epoch 4/10\n",
            "22/22 [==============================] - 2112s 96s/step - loss: 0.1357 - accuracy: 0.9556 - val_loss: 0.0071 - val_accuracy: 1.0000\n",
            "Epoch 5/10\n",
            "22/22 [==============================] - 2141s 97s/step - loss: 0.2070 - accuracy: 0.9456 - val_loss: 0.0311 - val_accuracy: 0.9959\n",
            "Epoch 6/10\n",
            "22/22 [==============================] - 2223s 101s/step - loss: 0.0878 - accuracy: 0.9742 - val_loss: 0.0039 - val_accuracy: 1.0000\n",
            "Epoch 7/10\n",
            "22/22 [==============================] - 2067s 94s/step - loss: 0.0145 - accuracy: 0.9950 - val_loss: 3.5854e-04 - val_accuracy: 1.0000\n",
            "Epoch 8/10\n",
            "22/22 [==============================] - 2112s 96s/step - loss: 0.0062 - accuracy: 0.9986 - val_loss: 2.7735e-04 - val_accuracy: 1.0000\n",
            "Epoch 9/10\n",
            "22/22 [==============================] - 2181s 100s/step - loss: 0.0118 - accuracy: 0.9964 - val_loss: 1.4346e-04 - val_accuracy: 1.0000\n",
            "Epoch 10/10\n",
            "22/22 [==============================] - 2244s 102s/step - loss: 0.0072 - accuracy: 0.9979 - val_loss: 3.3685e-05 - val_accuracy: 1.0000\n"
          ]
        }
      ]
    },
    {
      "cell_type": "code",
      "source": [
        "from google.colab import drive\n",
        "drive.mount('/content/drive')\n",
        "model.save(\"/content/drive/MyDrive/models/modelPlanets-MoonsData.h5\")"
      ],
      "metadata": {
        "colab": {
          "base_uri": "https://localhost:8080/"
        },
        "id": "VY9_4NIRvFvA",
        "outputId": "63df3195-6a3c-4f87-a458-cf516839f7c9"
      },
      "execution_count": 22,
      "outputs": [
        {
          "output_type": "stream",
          "name": "stdout",
          "text": [
            "Drive already mounted at /content/drive; to attempt to forcibly remount, call drive.mount(\"/content/drive\", force_remount=True).\n"
          ]
        }
      ]
    },
    {
      "cell_type": "code",
      "source": [
        "import matplotlib.pyplot as plt\n",
        "\n",
        "plt.plot(history.history['accuracy'],color='red',label='train')\n",
        "plt.plot(history.history['val_accuracy'],color='blue',label='validation')\n",
        "plt.legend()\n",
        "plt.show()"
      ],
      "metadata": {
        "colab": {
          "base_uri": "https://localhost:8080/",
          "height": 430
        },
        "id": "h6aC0RKEvI_C",
        "outputId": "e5d51197-5f5c-4276-acca-f9934bec0370"
      },
      "execution_count": 23,
      "outputs": [
        {
          "output_type": "display_data",
          "data": {
            "text/plain": [
              "<Figure size 640x480 with 1 Axes>"
            ],
            "image/png": "[encoded data removed]"
          },
          "metadata": {}
        }
      ]
    },
    {
      "cell_type": "code",
      "source": [
        "import matplotlib.pyplot as plt\n",
        "\n",
        "plt.plot(history.history['accuracy'],color='red',label='train')\n",
        "plt.plot(history.history['val_accuracy'],color='blue',label='validation')\n",
        "plt.legend()\n",
        "plt.show()"
      ],
      "metadata": {
        "colab": {
          "base_uri": "https://localhost:8080/",
          "height": 430
        },
        "id": "xPjOoIxTyJaK",
        "outputId": "a43e68c0-4eb5-4dbd-8963-8dc0612559b0"
      },
      "execution_count": 14,
      "outputs": [
        {
          "output_type": "display_data",
          "data": {
            "text/plain": [
              "<Figure size 640x480 with 1 Axes>"
            ],
            "image/png": "[encoded data removed]"
          },
          "metadata": {}
        }
      ]
    }
  ]
}